{
  "nbformat": 4,
  "nbformat_minor": 0,
  "metadata": {
    "colab": {
      "provenance": [],
      "collapsed_sections": [],
      "include_colab_link": true
    },
    "kernelspec": {
      "name": "python3",
      "display_name": "Python 3"
    },
    "language_info": {
      "name": "python"
    },
    "accelerator": "GPU",
    "gpuClass": "standard"
  },
  "cells": [
    {
      "cell_type": "markdown",
      "metadata": {
        "id": "view-in-github",
        "colab_type": "text"
      },
      "source": [
        "<a href=\"https://colab.research.google.com/github/ElluIFX/ANO_LX_FC/blob/master/StableDiffusionUI_(adapted_to_NovelAILeaks).ipynb\" target=\"_parent\"><img src=\"https://colab.research.google.com/assets/colab-badge.svg\" alt=\"Open In Colab\"/></a>"
      ]
    },
    {
      "cell_type": "markdown",
      "source": [
        "Credit: https://t.me/StableDiffusion_CN https://t.me/exlolicon\n",
        "\n",
        "FAQ: https://t.me/StableDiffusion_CN/13436"
      ],
      "metadata": {
        "id": "4uISfvm60M2N"
      }
    },
    {
      "cell_type": "markdown",
      "source": [
        "Check GPU"
      ],
      "metadata": {
        "id": "VBDPqhYnyBL1"
      }
    },
    {
      "cell_type": "code",
      "source": [
        "!nvidia-smi"
      ],
      "metadata": {
        "id": "woQCdVO8x-Kt"
      },
      "execution_count": null,
      "outputs": []
    },
    {
      "cell_type": "markdown",
      "source": [
        "Clone webui repository"
      ],
      "metadata": {
        "id": "OHCtG9MT0jLq"
      }
    },
    {
      "cell_type": "code",
      "source": [
        "%cd /content\n",
        "!git clone https://github.com/AUTOMATIC1111/stable-diffusion-webui\n",
        "\n",
        "%cd stable-diffusion-webui\n",
        "!git pull"
      ],
      "metadata": {
        "id": "sBbcB4vwj_jm",
        "colab": {
          "base_uri": "https://localhost:8080/"
        },
        "outputId": "8146c2bf-fe75-496d-b5da-e34433f333c5"
      },
      "execution_count": null,
      "outputs": [
        {
          "output_type": "stream",
          "name": "stdout",
          "text": [
            "Cloning into 'stable-diffusion-webui'...\n",
            "remote: Enumerating objects: 4673, done.\u001b[K\n",
            "remote: Counting objects: 100% (252/252), done.\u001b[K\n",
            "remote: Compressing objects: 100% (152/152), done.\u001b[K\n",
            "remote: Total 4673 (delta 156), reused 157 (delta 99), pack-reused 4421\u001b[K\n",
            "Receiving objects: 100% (4673/4673), 20.40 MiB | 18.01 MiB/s, done.\n",
            "Resolving deltas: 100% (3270/3270), done.\n",
            "/content/stable-diffusion-webui\n"
          ]
        }
      ]
    },
    {
      "cell_type": "markdown",
      "source": [
        "Download the model from NovelAILeaks."
      ],
      "metadata": {
        "id": "F0EINk5M0s-w"
      }
    },
    {
      "cell_type": "code",
      "source": [
        "!mkdir -p /content/stable-diffusion-webui/models/Stable-diffusion /content/stable-diffusion-webui/models/hypernetworks\n",
        "%cd /content/stable-diffusion-webui/models/Stable-diffusion/\n",
        "!apt install -y -qq aria2\n",
        "\n",
        "# animesfw-final-pruned + 4G animefull-final-pruned\n",
        "!aria2c --summary-interval=10 -x 3 --allow-overwrite=true -Z \\\n",
        "  https://pub-2fdef7a2969f43289c42ac5ae3412fd4.r2.dev/animefull-final-pruned.ckpt \\\n",
        "  https://pub-2fdef7a2969f43289c42ac5ae3412fd4.r2.dev/animesfw-final-pruned.ckpt \n",
        "!curl -Lo /content/stable-diffusion-webui/config.yaml https://pub-2fdef7a2969f43289c42ac5ae3412fd4.r2.dev/config-pruned.yaml\n",
        "\n",
        "# disabled models\n",
        "# !aria2c --summary-interval=10 -x 3 --allow-overwrite=true -Z \\\n",
        "#   https://pub-2fdef7a2969f43289c42ac5ae3412fd4.r2.dev/animefull-latest.ckpt \\\n",
        "#   https://pub-2fdef7a2969f43289c42ac5ae3412fd4.r2.dev/animesfw-latest.ckpt \n",
        "# !curl -Lo /content/stable-diffusion-webui/config.yaml https://pub-2fdef7a2969f43289c42ac5ae3412fd4.r2.dev/config-latest.yaml\n",
        "\n",
        "# Install VAE Weights (optional)\n",
        "!curl -Lo /content/animevae.pt https://pub-2fdef7a2969f43289c42ac5ae3412fd4.r2.dev/animevae.pt\n",
        " \n",
        "# Install hypernetwork （optional)\n",
        "!curl -L https://cloudflare-ipfs.com/ipfs/bafybeiduanx2b3mcvxlwr66igcwnpfmk3nc3qgxlpwh6oq6m6pxii3f77e/_modules.tar | tar x -C /content/stable-diffusion-webui/models/hypernetworks\n",
        "\n",
        "# Install embeddings (optional)\n",
        "# !curl -L https://cloudflare-ipfs.com/ipfs/bafybeie3hdjchxs5tz4n75bos53nhcklslguxchdurc2ynrzcfv2kwyklu/embeddings.tar | tar x -C /content/stable-diffusion-webui/embeddings"
      ],
      "metadata": {
        "colab": {
          "base_uri": "https://localhost:8080/"
        },
        "id": "ZzRNMT42Gw_p",
        "outputId": "7ca7a7db-153c-459f-aae0-e6c35410cbf3"
      },
      "execution_count": null,
      "outputs": [
        {
          "output_type": "stream",
          "name": "stdout",
          "text": [
            "/content/stable-diffusion-webui/models/Stable-diffusion\n",
            "  % Total    % Received % Xferd  Average Speed   Time    Time     Time  Current\n",
            "                                 Dload  Upload   Total   Spent    Left  Speed\n",
            "100 4067M  100 4067M    0     0   126M      0  0:00:32  0:00:32 --:--:--  149M\n",
            "  % Total    % Received % Xferd  Average Speed   Time    Time     Time  Current\n",
            "                                 Dload  Upload   Total   Spent    Left  Speed\n",
            "100  784M  100  784M    0     0   162M      0  0:00:04  0:00:04 --:--:--  168M\n",
            "  % Total    % Received % Xferd  Average Speed   Time    Time     Time  Current\n",
            "                                 Dload  Upload   Total   Spent    Left  Speed\n",
            "100 1004M  100 1004M    0     0   155M      0  0:00:06  0:00:06 --:--:--  155M\n"
          ]
        }
      ]
    },
    {
      "cell_type": "markdown",
      "source": [
        "Launch web ui. You will get a link to nnn.gradio.app, follow it.\n",
        "\n",
        "Commandline arguments are:\n",
        "  - `--share` - create online gradio.app link\n",
        "  - `--gradio-debug` - print outputs to console\n",
        "  - `--gradio-auth me:qwerty` - add authentication to gradio: username me, password qwerty"
      ],
      "metadata": {
        "id": "xt8lbdmC04ox"
      }
    },
    {
      "cell_type": "code",
      "source": [
        "%cd /content/stable-diffusion-webui\n",
        "\n",
        "# hacks to load model in colab\n",
        "!sed -i 's/map_location=\"cpu\"/map_location=\"cuda\"/g' /content/stable-diffusion-webui/modules/sd_models.py\n",
        "\n",
        "# Use novelai stable-diffusion-private (maybe slow, optional)\n",
        "# !mkdir -p repositories/stable-diffusion\n",
        "# !curl -L https://cloudflare-ipfs.com/ipfs/bafybeiauciguui6skzcwg23mjprjbuqhfzudms2gfi4rna55bygc3s6yxa/stable-diffusion-private.tar | tar x -C repositories/stable-diffusion\n",
        "# !git config --global --add safe.directory /content/stable-diffusion-webui/repositories/stable-diffusion\n",
        "# !pip3 install -U --pre triton icecream xformers\n",
        "# !sed -i 's/transformer\\.text_model/transformer/g' modules/sd_hijack.py\n",
        "# !sed -i 's/self.model.device/\"cuda\"/g' /content/stable-diffusion-webui/repositories/stable-diffusion/ldm/models/diffusion/*.py\n",
        "# !COMMANDLINE_ARGS=\"--share --gradio-debug --config config.yaml --xformers --vae-path /content/animevae.pt\" \\\n",
        "#  REQS_FILE=\"requirements.txt\" STABLE_DIFFUSION_COMMIT_HASH=\"5d95f1742ab1831d99df91c1a469b2b56a61eebf\" python launch.py\n",
        "\n",
        "# ...Or use normal stable-diffusion\n",
        "!COMMANDLINE_ARGS=\"--share --gradio-debug --config config.yaml --vae-path /content/animevae.pt\" REQS_FILE=\"requirements.txt\" python launch.py"
      ],
      "metadata": {
        "id": "R-xAdMA5wxXd",
        "colab": {
          "base_uri": "https://localhost:8080/"
        },
        "outputId": "f4312a0d-3af4-4e18-c31b-f0ac5c84aef3"
      },
      "execution_count": null,
      "outputs": [
        {
          "output_type": "stream",
          "name": "stdout",
          "text": [
            "/content/stable-diffusion-webui\n",
            "Python 3.7.14 (default, Sep  8 2022, 00:06:44) \n",
            "[GCC 7.5.0]\n",
            "Commit hash: 4999eb2ef9b30e8c42ca7e4a94d4bbffe4d1f015\n",
            "Installing requirements for Web UI\n",
            "Launching Web UI with arguments: --share --gradio-debug --medvram\n",
            "LatentDiffusion: Running in eps-prediction mode\n",
            "DiffusionWrapper has 859.52 M params.\n",
            "making attention of type 'vanilla' with 512 in_channels\n",
            "Working with z of shape (1, 4, 32, 32) = 4096 dimensions.\n",
            "making attention of type 'vanilla' with 512 in_channels\n",
            "Loading weights [925997e9] from /content/stable-diffusion-webui/models/Stable-diffusion/model.ckpt\n",
            "Loading VAE weights from: /content/stable-diffusion-webui/models/Stable-diffusion/model.vae.pt\n",
            "Model loaded.\n",
            "Loaded a total of 0 textual inversion embeddings.\n",
            "Running on local URL:  http://127.0.0.1:7860\n",
            "Running on public URL: https://14625.gradio.app\n",
            "\n",
            "This share link expires in 72 hours. For free permanent hosting, check out Spaces: https://huggingface.co/spaces\n",
            "Interrupted with signal 2 in <frame at 0x7ff84270e5f0, file '/usr/local/lib/python3.7/dist-packages/gradio/blocks.py', line 1238, code block_thread>\n"
          ]
        }
      ]
    },
    {
      "cell_type": "markdown",
      "source": [
        "commands for ***after*** you have gotten done with a session\n",
        "============================================================================"
      ],
      "metadata": {
        "id": "T3957x2AY7iP"
      }
    },
    {
      "cell_type": "markdown",
      "source": [
        "Zip images for downloading on local drive (click the folder icon on the left, the one below {x})"
      ],
      "metadata": {
        "id": "aCtJffM2ZE06"
      }
    },
    {
      "cell_type": "code",
      "source": [
        "!zip -r /content/stable-diffusion-webui /content/stable-diffusion-webui/outputs "
      ],
      "metadata": {
        "id": "TmRqNyiAZCHu",
        "colab": {
          "base_uri": "https://localhost:8080/"
        },
        "outputId": "2438de40-029d-4896-843c-033199fb89ea"
      },
      "execution_count": null,
      "outputs": [
        {
          "output_type": "stream",
          "name": "stdout",
          "text": [
            "  adding: content/stable-diffusion-webui/outputs/ (stored 0%)\n",
            "  adding: content/stable-diffusion-webui/outputs/img2img-grids/ (stored 0%)\n",
            "  adding: content/stable-diffusion-webui/outputs/img2img-grids/grid-0000.png (deflated 0%)\n",
            "  adding: content/stable-diffusion-webui/outputs/txt2img-grids/ (stored 0%)\n",
            "  adding: content/stable-diffusion-webui/outputs/txt2img-grids/grid-0000.png (deflated 0%)\n",
            "  adding: content/stable-diffusion-webui/outputs/txt2img-images/ (stored 0%)\n",
            "  adding: content/stable-diffusion-webui/outputs/txt2img-images/00009-1373138053-succubuss,small breats,blue eye.png (deflated 0%)\n",
            "  adding: content/stable-diffusion-webui/outputs/txt2img-images/00003-2046432431-loli ojousama with red eyes, green blue gradient hair, double bun, wearing dark blue frilled dress, detached sleeves, juliet sle.png (deflated 0%)\n",
            "  adding: content/stable-diffusion-webui/outputs/txt2img-images/00008-503028384-succubuss,small breats.png (deflated 0%)\n",
            "  adding: content/stable-diffusion-webui/outputs/txt2img-images/00002-3937445083-fox,sex.png (deflated 0%)\n",
            "  adding: content/stable-diffusion-webui/outputs/txt2img-images/00000-1817095364-loli ojousama with red eyes, green blue gradient hair, double bun, wearing dark blue frilled dress, detached sleeves, juliet sle.png (deflated 0%)\n",
            "  adding: content/stable-diffusion-webui/outputs/txt2img-images/00005-986881950-succubuss.png (deflated 0%)\n",
            "  adding: content/stable-diffusion-webui/outputs/txt2img-images/00004-1779340215-loli ojousama with red eyes, green blue gradient hair, double bun, wearing dark blue frilled dress, detached sleeves, juliet sle.png (deflated 0%)\n",
            "  adding: content/stable-diffusion-webui/outputs/txt2img-images/00001-4095129588-small breats.png (deflated 0%)\n",
            "  adding: content/stable-diffusion-webui/outputs/txt2img-images/00007-3130979181-masterpiece，masterpiece portrait，full_body，highly detailed，Grin，loli，little girl，sweat，small breasts，squatting，Navel，midriff，whi.png (deflated 0%)\n",
            "  adding: content/stable-diffusion-webui/outputs/txt2img-images/00006-3130979180-masterpiece，masterpiece portrait，full_body，highly detailed，Grin，loli，little girl，sweat，small breasts，squatting，Navel，midriff，whi.png (deflated 0%)\n",
            "  adding: content/stable-diffusion-webui/outputs/txt2img-images/00010-864746822-succubuss,small breats,blue eye,nude.png (deflated 0%)\n",
            "  adding: content/stable-diffusion-webui/outputs/img2img-images/ (stored 0%)\n",
            "  adding: content/stable-diffusion-webui/outputs/img2img-images/00003-302546224-masterpiece，masterpiece portrait，full_body，highly detailed，Grin，loli，little girl，sweat，small breasts，squatting，Navel，midriff，whi.png (deflated 0%)\n",
            "  adding: content/stable-diffusion-webui/outputs/img2img-images/00002-302546223-masterpiece，masterpiece portrait，full_body，highly detailed，Grin，loli，little girl，sweat，small breasts，squatting，Navel，midriff，whi.png (deflated 0%)\n",
            "  adding: content/stable-diffusion-webui/outputs/img2img-images/00001-302546222-masterpiece，masterpiece portrait，full_body，highly detailed，Grin，loli，little girl，sweat，small breasts，squatting，Navel，midriff，whi.png (deflated 0%)\n",
            "  adding: content/stable-diffusion-webui/outputs/img2img-images/00000-302546221-masterpiece，masterpiece portrait，full_body，highly detailed，Grin，loli，little girl，sweat，small breasts，squatting，Navel，midriff，whi.png (deflated 0%)\n"
          ]
        }
      ]
    },
    {
      "cell_type": "markdown",
      "source": [
        "Save images to Google Drive **Warning: this will cause google to scan your drive, so if you intend to use this and worry about that kind of stuff, probablly just set this up on a clean account that's just for this colab**"
      ],
      "metadata": {
        "id": "tcslU-S2ZNr9"
      }
    },
    {
      "cell_type": "code",
      "source": [
        "from google.colab import drive # type: ignore\n",
        "\n",
        "try:\n",
        "   drive_path = \"/content/drive\"\n",
        "   drive.mount(drive_path,force_remount=False)\n",
        "except:\n",
        "   print(\"...error mounting drive or with drive path variables\")\n",
        "\n",
        "!cp -r \"/content/stable-diffusion-webui/outputs\" \"/content/drive/MyDrive\""
      ],
      "metadata": {
        "id": "-N0lnu-TZOTW",
        "colab": {
          "base_uri": "https://localhost:8080/"
        },
        "outputId": "4114f308-0938-4dc0-fcd6-b0aac7edeb4d"
      },
      "execution_count": null,
      "outputs": [
        {
          "output_type": "stream",
          "name": "stdout",
          "text": [
            "...error mounting drive or with drive path variables\n",
            "cp: cannot create directory '/content/drive/MyDrive': No such file or directory\n"
          ]
        }
      ]
    }
  ]
}